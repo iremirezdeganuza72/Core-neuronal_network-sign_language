{
 "cells": [
  {
   "cell_type": "code",
   "execution_count": 1,
   "id": "76871db6",
   "metadata": {},
   "outputs": [],
   "source": [
    "import numpy as np\n",
    "import cv2 as cv\n",
    "from pathlib import Path"
   ]
  },
  {
   "cell_type": "code",
   "execution_count": null,
   "id": "a97ceae1",
   "metadata": {},
   "outputs": [],
   "source": [
    "def create_data():\n",
    "    sign = input('Which sign would you like to add? -> ')\n",
    "    Path('own_dataset/'+sign).mkdir(parents=True, exist_ok=True)\n",
    "    cap = cv.VideoCapture(0)\n",
    "    i = 0    \n",
    "    while True:\n",
    "       \n",
    "        ret, frame = cap.read()\n",
    "        i+= 1\n",
    "        if i % 5==0:\n",
    "            cv.imwrite(f'own_dataset/{sign}/{str(i)}.png',frame)\n",
    "        cv.imshow('frame', frame)\n",
    "        if cv.waitKey(1) == ord('q') or i > 500:\n",
    "            break\n",
    "    cap.release()\n",
    "    cv.destroyAllWindows()\n",
    "\n",
    "if __name__ == \"__main__\":\n",
    "   create_data()"
   ]
  },
  {
   "cell_type": "code",
   "execution_count": null,
   "id": "ed965ac8",
   "metadata": {},
   "outputs": [],
   "source": [
    "#abrir la cámara\n",
    "cap = cv.VideoCapture()"
   ]
  },
  {
   "cell_type": "code",
   "execution_count": null,
   "id": "d1daf3c2",
   "metadata": {},
   "outputs": [],
   "source": [
    "cap.set(cv.CAP_PROP_FRAME_WIDTH,2560) # ancho\n",
    "cap.set(cv.CAP_PROP_FRAME_HEIGHT,1440) # alto"
   ]
  },
  {
   "cell_type": "code",
   "execution_count": null,
   "id": "59b50d10",
   "metadata": {},
   "outputs": [],
   "source": [
    "#tomar una imágen\n",
    "ret, frame= cap.read()"
   ]
  },
  {
   "cell_type": "code",
   "execution_count": null,
   "id": "104aa3bd",
   "metadata": {},
   "outputs": [],
   "source": [
    "#Guardamos la imagen en un archivo\n",
    "cv.imwrite('C:\\Users\\bikai\\Desktop', frame)"
   ]
  },
  {
   "cell_type": "code",
   "execution_count": null,
   "id": "7f1efb2e",
   "metadata": {},
   "outputs": [],
   "source": [
    "#liberamos la cámara\n",
    "cap.release()"
   ]
  }
 ],
 "metadata": {
  "kernelspec": {
   "display_name": "Python 3 (ipykernel)",
   "language": "python",
   "name": "python3"
  },
  "language_info": {
   "codemirror_mode": {
    "name": "ipython",
    "version": 3
   },
   "file_extension": ".py",
   "mimetype": "text/x-python",
   "name": "python",
   "nbconvert_exporter": "python",
   "pygments_lexer": "ipython3",
   "version": "3.9.12"
  }
 },
 "nbformat": 4,
 "nbformat_minor": 5
}
