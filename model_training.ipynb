{
 "cells": [
  {
   "cell_type": "code",
   "execution_count": 1,
   "id": "6cde48c4",
   "metadata": {},
   "outputs": [],
   "source": [
    "import numpy as np\n",
    "import pandas as pd\n",
    "import matplotlib.pyplot as plt\n",
    "import seaborn as sns\n",
    "from sklearn.model_selection import train_test_split\n",
    "from tensorflow.keras.models import Sequential\n",
    "from sklearn.metrics import accuracy_score, precision_score, recall_score, f1_score\n",
    "from sklearn.linear_model import SGDClassifier\n",
    "from sklearn.svm import SVC\n",
    "from sklearn.ensemble import RandomForestClassifier\n",
    "from sklearn.neighbors import KNeighborsClassifier\n",
    "from sklearn.linear_model import LogisticRegression"
   ]
  },
  {
   "cell_type": "markdown",
   "id": "ed9626d2",
   "metadata": {},
   "source": [
    "Cargamos las imágenes desde data-np."
   ]
  },
  {
   "cell_type": "code",
   "execution_count": 2,
   "id": "eefb9d08",
   "metadata": {},
   "outputs": [],
   "source": [
    "X = np.load(\"data_np/x.npy\",allow_pickle=True)"
   ]
  },
  {
   "cell_type": "code",
   "execution_count": 3,
   "id": "4262c08b",
   "metadata": {},
   "outputs": [
    {
     "data": {
      "text/plain": [
       "array([list([[0.4037114381790161, 0.7942788004875183, -8.02085992290813e-07], [0.44264912605285645, 0.7142797708511353, -0.051894839853048325], [0.4121386408805847, 0.6169734597206116, -0.06913512945175171], [0.31132280826568604, 0.5894197225570679, -0.08301523327827454], [0.2366849184036255, 0.61095130443573, -0.08573567867279053], [0.3348039388656616, 0.5245189666748047, -0.01890534907579422], [0.2720668911933899, 0.457913875579834, -0.06337893754243851], [0.2916208803653717, 0.5181753039360046, -0.08700498193502426], [0.31193163990974426, 0.5581586956977844, -0.09436111897230148], [0.26648175716400146, 0.5598636865615845, -0.01158878393471241], [0.20798957347869873, 0.5002520084381104, -0.05649205669760704], [0.24514728784561157, 0.5680214762687683, -0.0731470137834549], [0.2702549993991852, 0.5942918062210083, -0.07281244546175003], [0.21629871428012848, 0.6042258739471436, -0.014096921309828758], [0.15419895946979523, 0.5411074161529541, -0.0569864846765995], [0.1943981945514679, 0.6036866903305054, -0.05583557114005089], [0.23096737265586853, 0.6478826999664307, -0.04185134544968605], [0.1775655299425125, 0.6564559936523438, -0.02173297479748726], [0.09672486782073975, 0.5969944000244141, -0.04276126250624657], [0.04844823479652405, 0.5693560838699341, -0.04450617730617523], [0.013681575655937195, 0.5391955971717834, -0.04005294293165207]]),\n",
       "       list([[0.7219107151031494, 0.81486576795578, -3.744981142972392e-07], [0.7615118026733398, 0.7345588207244873, -0.056181296706199646], [0.7411841154098511, 0.6475400328636169, -0.08918829262256622], [0.6513423323631287, 0.6187329292297363, -0.1167132705450058], [0.57568359375, 0.6372858285903931, -0.13822048902511597], [0.6396647691726685, 0.5577037334442139, -0.05937958136200905], [0.5885952711105347, 0.47401630878448486, -0.10402859002351761], [0.5936601161956787, 0.4785487651824951, -0.12814709544181824], [0.606389045715332, 0.5039795637130737, -0.13899841904640198], [0.5721258521080017, 0.585618793964386, -0.05159163475036621], [0.5165162086486816, 0.5039650797843933, -0.09577874094247818], [0.564210832118988, 0.5545734167098999, -0.10697881877422333], [0.5880353450775146, 0.5793755054473877, -0.10560716688632965], [0.5218819379806519, 0.6267663836479187, -0.051065605133771896], [0.44834232330322266, 0.5522587895393372, -0.09341593086719513], [0.5060805678367615, 0.6047446727752686, -0.09148930758237839], [0.5519766211509705, 0.654167890548706, -0.08071748167276382], [0.4864062964916229, 0.6887549161911011, -0.05546756833791733], [0.3780968487262726, 0.6477861404418945, -0.09037122130393982], [0.3049328327178955, 0.6266515254974365, -0.10496802628040314], [0.23896372318267822, 0.6040487289428711, -0.11126171797513962]]),\n",
       "       list([[0.6779654026031494, 0.713990330696106, -1.254091557711945e-06], [0.7606168985366821, 0.5777173042297363, -0.06388518959283829], [0.7475515604019165, 0.3928399980068207, -0.07973100990056992], [0.6073631048202515, 0.3082011640071869, -0.09484152495861053], [0.4858192801475525, 0.31875407695770264, -0.09502653032541275], [0.6635415554046631, 0.2849154472351074, 0.004900345578789711], [0.5792632699012756, 0.18452446162700653, -0.04930296167731285], [0.6088144779205322, 0.2829638421535492, -0.08018780499696732], [0.6417259573936462, 0.3326847553253174, -0.0909610241651535], [0.569309413433075, 0.3249358534812927, 0.01027014572173357], [0.4870087504386902, 0.2250201404094696, -0.05989525467157364], [0.5394017100334167, 0.3358522653579712, -0.09154817461967468], [0.5788521766662598, 0.3959822952747345, -0.09241489320993423], [0.49107134342193604, 0.3766899108886719, 0.0025610129814594984], [0.3982457220554352, 0.2747604548931122, -0.06443527340888977], [0.46136629581451416, 0.36626631021499634, -0.06798425316810608], [0.5174891948699951, 0.43910378217697144, -0.04803050309419632], [0.4207438826560974, 0.43891432881355286, -0.011280834674835205], [0.3397701680660248, 0.33414319157600403, -0.039268068969249725], [0.2902061641216278, 0.2703966796398163, -0.04273607209324837], [0.2461954951286316, 0.20609115064144135, -0.037758879363536835]]),\n",
       "       ...,\n",
       "       list([[0.4252203106880188, 0.3970877528190613, 5.682258006345364e-07], [0.509811282157898, 0.4232926368713379, -0.03370141610503197], [0.6009008288383484, 0.3878175914287567, -0.04645439609885216], [0.6055434942245483, 0.31101733446121216, -0.058771442621946335], [0.5809741616249084, 0.2521180510520935, -0.07212194055318832], [0.6177341341972351, 0.3148554861545563, -0.03044869378209114], [0.6758798956871033, 0.2678282856941223, -0.0656643882393837], [0.7194805145263672, 0.21855711936950684, -0.08996379375457764], [0.7547145485877991, 0.17173482477664948, -0.1069856658577919], [0.5711718797683716, 0.2744988203048706, -0.036483753472566605], [0.5997138619422913, 0.2490367889404297, -0.09001215547323227], [0.6076802611351013, 0.24587783217430115, -0.11511175334453583], [0.6111957430839539, 0.2391558736562729, -0.12195120006799698], [0.5176171660423279, 0.252839595079422, -0.04633673280477524], [0.5212035179138184, 0.25257620215415955, -0.1156529113650322], [0.49524208903312683, 0.32766881585121155, -0.1183813139796257], [0.47125935554504395, 0.3838178813457489, -0.1002620980143547], [0.4567117691040039, 0.24499934911727905, -0.05799064412713051], [0.46634000539779663, 0.2522866427898407, -0.11158803850412369], [0.4489898085594177, 0.30915433168411255, -0.10877374559640884], [0.4302845597267151, 0.3514968156814575, -0.09330791980028152]]),\n",
       "       list([[0.5455710291862488, 0.28664740920066833, 7.736504699096258e-07], [0.641653835773468, 0.2967744469642639, -0.032024603337049484], [0.7131696939468384, 0.2509463429450989, -0.037322208285331726], [0.7008349895477295, 0.1737767606973648, -0.04200243949890137], [0.6557072997093201, 0.12906008958816528, -0.04630690813064575], [0.7267892956733704, 0.18415525555610657, -0.009118781425058842], [0.7894042730331421, 0.12931545078754425, -0.03365670144557953], [0.826996922492981, 0.08679943531751633, -0.051256708800792694], [0.8576837182044983, 0.05252262204885483, -0.061404187232255936], [0.6805978417396545, 0.14775550365447998, -0.011927450075745583], [0.7437087297439575, 0.08474896103143692, -0.040264636278152466], [0.7886240482330322, 0.0462326779961586, -0.0609007403254509], [0.8258875608444214, 0.01500806212425232, -0.07018576562404633], [0.6269631385803223, 0.13037075102329254, -0.020024854689836502], [0.6523486971855164, 0.09925436973571777, -0.06984186917543411], [0.640759289264679, 0.15217477083206177, -0.08434255421161652], [0.6266687512397766, 0.1961006224155426, -0.0772019773721695], [0.5696957111358643, 0.12673458456993103, -0.029536724090576172], [0.596472978591919, 0.1124558299779892, -0.06690553575754166], [0.5970836281776428, 0.15482524037361145, -0.06830979138612747], [0.5881944894790649, 0.19068017601966858, -0.05920421704649925]]),\n",
       "       list([[0.6789315938949585, 0.8565093278884888, 4.567933586940853e-08], [0.7987796068191528, 0.8577625751495361, -0.023588266223669052], [0.898377001285553, 0.7955569624900818, -0.026388509199023247], [0.917102038860321, 0.6937873363494873, -0.03336017206311226], [0.8779956698417664, 0.6208933591842651, -0.04175340384244919], [0.8998881578445435, 0.6962475776672363, 0.01290367916226387], [0.9676086902618408, 0.6145438551902771, -0.0034222742542624474], [1.0071710348129272, 0.5678287744522095, -0.01604989729821682], [1.035020112991333, 0.5300713777542114, -0.027238693088293076], [0.8429602980613708, 0.6666780710220337, 0.008071552962064743], [0.8825170993804932, 0.5913051962852478, -0.03829187899827957], [0.859927773475647, 0.6647036671638489, -0.05951445549726486], [0.8318613171577454, 0.7276144027709961, -0.060880206525325775], [0.7803520560264587, 0.6482722163200378, -0.0008097367826849222], [0.8225315809249878, 0.580078661441803, -0.06230197846889496], [0.8079919815063477, 0.6699491739273071, -0.06788244098424911], [0.7763358950614929, 0.7442829608917236, -0.053688179701566696], [0.7052083015441895, 0.6369341015815735, -0.010495556518435478], [0.7674595713615417, 0.5930589437484741, -0.06591508537530899], [0.7796232104301453, 0.6607862710952759, -0.0729224905371666], [0.764737069606781, 0.7295348644256592, -0.06504815071821213]])],\n",
       "      dtype=object)"
      ]
     },
     "execution_count": 3,
     "metadata": {},
     "output_type": "execute_result"
    }
   ],
   "source": [
    "X"
   ]
  },
  {
   "cell_type": "markdown",
   "id": "8cee90ad",
   "metadata": {},
   "source": [
    "Cargamos las etiquetas de las imágenes."
   ]
  },
  {
   "cell_type": "code",
   "execution_count": 4,
   "id": "d38bf360",
   "metadata": {},
   "outputs": [],
   "source": [
    "y=np.load(\"data_np/y.npy\")"
   ]
  },
  {
   "cell_type": "code",
   "execution_count": 5,
   "id": "3911439f",
   "metadata": {},
   "outputs": [
    {
     "data": {
      "text/plain": [
       "array([['J'],\n",
       "       ['J'],\n",
       "       ['J'],\n",
       "       ...,\n",
       "       ['Z'],\n",
       "       ['Z'],\n",
       "       ['Z']], dtype='<U1')"
      ]
     },
     "execution_count": 5,
     "metadata": {},
     "output_type": "execute_result"
    }
   ],
   "source": [
    "y"
   ]
  },
  {
   "cell_type": "code",
   "execution_count": 6,
   "id": "98a1270a",
   "metadata": {},
   "outputs": [
    {
     "data": {
      "text/plain": [
       "(60469, 1)"
      ]
     },
     "execution_count": 6,
     "metadata": {},
     "output_type": "execute_result"
    }
   ],
   "source": [
    "y.shape"
   ]
  },
  {
   "cell_type": "code",
   "execution_count": 7,
   "id": "580b0604",
   "metadata": {},
   "outputs": [
    {
     "data": {
      "text/plain": [
       "(60469,)"
      ]
     },
     "execution_count": 7,
     "metadata": {},
     "output_type": "execute_result"
    }
   ],
   "source": [
    "X.shape"
   ]
  },
  {
   "cell_type": "markdown",
   "id": "d2e2606e",
   "metadata": {},
   "source": [
    "Hago un resize para obtener la dimensionalidad de 21 y 3."
   ]
  },
  {
   "cell_type": "code",
   "execution_count": 8,
   "id": "34056c68",
   "metadata": {},
   "outputs": [],
   "source": [
    "X.resize(60469, 21, 3, refcheck = False)"
   ]
  },
  {
   "cell_type": "code",
   "execution_count": 9,
   "id": "a39c01c5",
   "metadata": {},
   "outputs": [
    {
     "data": {
      "text/plain": [
       "(60469, 21, 3)"
      ]
     },
     "execution_count": 9,
     "metadata": {},
     "output_type": "execute_result"
    }
   ],
   "source": [
    "X.shape"
   ]
  },
  {
   "cell_type": "markdown",
   "id": "d3ae2a62",
   "metadata": {},
   "source": [
    "Miro los diferentes labels de y."
   ]
  },
  {
   "cell_type": "code",
   "execution_count": 10,
   "id": "cdc0af3d",
   "metadata": {},
   "outputs": [
    {
     "data": {
      "text/plain": [
       "array(['A', 'B', 'C', 'D', 'E', 'F', 'G', 'H', 'I', 'J', 'K', 'L', 'M',\n",
       "       'N', 'O', 'P', 'Q', 'R', 'S', 'T', 'U', 'V', 'W', 'X', 'Y', 'Z'],\n",
       "      dtype='<U1')"
      ]
     },
     "execution_count": 10,
     "metadata": {},
     "output_type": "execute_result"
    }
   ],
   "source": [
    "np.unique(y)"
   ]
  },
  {
   "cell_type": "markdown",
   "id": "120cc660",
   "metadata": {},
   "source": [
    "Veo la distribución de datos por cada label. Están bastante bien distribuidas. Solamente 2 labels bajan de las 2.000."
   ]
  },
  {
   "cell_type": "code",
   "execution_count": 11,
   "id": "110063b7",
   "metadata": {},
   "outputs": [
    {
     "data": {
      "text/plain": [
       "(array(['A', 'B', 'C', 'D', 'E', 'F', 'G', 'H', 'I', 'J', 'K', 'L', 'M',\n",
       "        'N', 'O', 'P', 'Q', 'R', 'S', 'T', 'U', 'V', 'W', 'X', 'Y', 'Z'],\n",
       "       dtype='<U1'),\n",
       " array([2193, 2210, 1991, 2463, 2310, 2882, 2442, 2394, 2386, 2582, 2702,\n",
       "        2527, 1591, 1298, 2271, 2043, 2107, 2547, 2555, 2349, 2520, 2551,\n",
       "        2459, 2159, 2585, 2352]))"
      ]
     },
     "execution_count": 11,
     "metadata": {},
     "output_type": "execute_result"
    }
   ],
   "source": [
    "np.unique(y, return_counts=True)"
   ]
  },
  {
   "cell_type": "code",
   "execution_count": 12,
   "id": "3452f2ee",
   "metadata": {},
   "outputs": [],
   "source": [
    "X_samp, y_samp = X[:20000], y[:20000]"
   ]
  },
  {
   "cell_type": "code",
   "execution_count": 13,
   "id": "6c24fab1",
   "metadata": {},
   "outputs": [],
   "source": [
    "X_train,  X_test, y_train, y_test = train_test_split(X_samp, y_samp, test_size=0.25)"
   ]
  },
  {
   "cell_type": "code",
   "execution_count": 14,
   "id": "4e10bb33",
   "metadata": {},
   "outputs": [],
   "source": [
    "models = {\n",
    "    \"SGD\":SGDClassifier(average=True),\n",
    "    \"KNN_3\":KNeighborsClassifier(3),\n",
    "    \"KNN_5\":KNeighborsClassifier(5),\n",
    "    \"KNN_7\":KNeighborsClassifier(7),\n",
    "    \"SVC\":SVC(),\n",
    "    \"RandomForrest\":RandomForestClassifier(),\n",
    "    \"LogisticRegression\":LogisticRegression()\n",
    "}"
   ]
  },
  {
   "cell_type": "code",
   "execution_count": 15,
   "id": "01f45e6c",
   "metadata": {},
   "outputs": [
    {
     "name": "stderr",
     "output_type": "stream",
     "text": [
      "/home/iremirezdeganuza/miniconda3/envs/fproject/lib/python3.9/site-packages/sklearn/utils/validation.py:993: DataConversionWarning: A column-vector y was passed when a 1d array was expected. Please change the shape of y to (n_samples, ), for example using ravel().\n",
      "  y = column_or_1d(y, warn=True)\n"
     ]
    },
    {
     "ename": "ValueError",
     "evalue": "setting an array element with a sequence.",
     "output_type": "error",
     "traceback": [
      "\u001b[0;31m---------------------------------------------------------------------------\u001b[0m",
      "\u001b[0;31mTypeError\u001b[0m                                 Traceback (most recent call last)",
      "\u001b[0;31mTypeError\u001b[0m: float() argument must be a string or a number, not 'list'",
      "\nThe above exception was the direct cause of the following exception:\n",
      "\u001b[0;31mValueError\u001b[0m                                Traceback (most recent call last)",
      "Input \u001b[0;32mIn [15]\u001b[0m, in \u001b[0;36m<cell line: 4>\u001b[0;34m()\u001b[0m\n\u001b[1;32m      3\u001b[0m results \u001b[38;5;241m=\u001b[39m {k:{} \u001b[38;5;28;01mfor\u001b[39;00m k \u001b[38;5;129;01min\u001b[39;00m [\u001b[38;5;124m\"\u001b[39m\u001b[38;5;124mf1\u001b[39m\u001b[38;5;124m\"\u001b[39m,\u001b[38;5;124m\"\u001b[39m\u001b[38;5;124macc\u001b[39m\u001b[38;5;124m\"\u001b[39m,\u001b[38;5;124m\"\u001b[39m\u001b[38;5;124mprecision\u001b[39m\u001b[38;5;124m\"\u001b[39m,\u001b[38;5;124m\"\u001b[39m\u001b[38;5;124mrecall\u001b[39m\u001b[38;5;124m\"\u001b[39m]}\n\u001b[1;32m      4\u001b[0m \u001b[38;5;28;01mfor\u001b[39;00m name, model \u001b[38;5;129;01min\u001b[39;00m models\u001b[38;5;241m.\u001b[39mitems():\n\u001b[0;32m----> 5\u001b[0m     \u001b[43mmodel\u001b[49m\u001b[38;5;241;43m.\u001b[39;49m\u001b[43mfit\u001b[49m\u001b[43m(\u001b[49m\u001b[43mX_train\u001b[49m\u001b[43m,\u001b[49m\u001b[43my_train\u001b[49m\u001b[43m)\u001b[49m\n\u001b[1;32m      6\u001b[0m     y_pred \u001b[38;5;241m=\u001b[39m model\u001b[38;5;241m.\u001b[39mpredict(X_test)\n\u001b[1;32m      7\u001b[0m     \u001b[38;5;28;01mfor\u001b[39;00m name_metric, metric \u001b[38;5;129;01min\u001b[39;00m metric_fn:\n",
      "File \u001b[0;32m~/miniconda3/envs/fproject/lib/python3.9/site-packages/sklearn/linear_model/_stochastic_gradient.py:883\u001b[0m, in \u001b[0;36mBaseSGDClassifier.fit\u001b[0;34m(self, X, y, coef_init, intercept_init, sample_weight)\u001b[0m\n\u001b[1;32m    855\u001b[0m \u001b[38;5;28;01mdef\u001b[39;00m \u001b[38;5;21mfit\u001b[39m(\u001b[38;5;28mself\u001b[39m, X, y, coef_init\u001b[38;5;241m=\u001b[39m\u001b[38;5;28;01mNone\u001b[39;00m, intercept_init\u001b[38;5;241m=\u001b[39m\u001b[38;5;28;01mNone\u001b[39;00m, sample_weight\u001b[38;5;241m=\u001b[39m\u001b[38;5;28;01mNone\u001b[39;00m):\n\u001b[1;32m    856\u001b[0m     \u001b[38;5;124;03m\"\"\"Fit linear model with Stochastic Gradient Descent.\u001b[39;00m\n\u001b[1;32m    857\u001b[0m \n\u001b[1;32m    858\u001b[0m \u001b[38;5;124;03m    Parameters\u001b[39;00m\n\u001b[0;32m   (...)\u001b[0m\n\u001b[1;32m    881\u001b[0m \u001b[38;5;124;03m        Returns an instance of self.\u001b[39;00m\n\u001b[1;32m    882\u001b[0m \u001b[38;5;124;03m    \"\"\"\u001b[39;00m\n\u001b[0;32m--> 883\u001b[0m     \u001b[38;5;28;01mreturn\u001b[39;00m \u001b[38;5;28;43mself\u001b[39;49m\u001b[38;5;241;43m.\u001b[39;49m\u001b[43m_fit\u001b[49m\u001b[43m(\u001b[49m\n\u001b[1;32m    884\u001b[0m \u001b[43m        \u001b[49m\u001b[43mX\u001b[49m\u001b[43m,\u001b[49m\n\u001b[1;32m    885\u001b[0m \u001b[43m        \u001b[49m\u001b[43my\u001b[49m\u001b[43m,\u001b[49m\n\u001b[1;32m    886\u001b[0m \u001b[43m        \u001b[49m\u001b[43malpha\u001b[49m\u001b[38;5;241;43m=\u001b[39;49m\u001b[38;5;28;43mself\u001b[39;49m\u001b[38;5;241;43m.\u001b[39;49m\u001b[43malpha\u001b[49m\u001b[43m,\u001b[49m\n\u001b[1;32m    887\u001b[0m \u001b[43m        \u001b[49m\u001b[43mC\u001b[49m\u001b[38;5;241;43m=\u001b[39;49m\u001b[38;5;241;43m1.0\u001b[39;49m\u001b[43m,\u001b[49m\n\u001b[1;32m    888\u001b[0m \u001b[43m        \u001b[49m\u001b[43mloss\u001b[49m\u001b[38;5;241;43m=\u001b[39;49m\u001b[38;5;28;43mself\u001b[39;49m\u001b[38;5;241;43m.\u001b[39;49m\u001b[43mloss\u001b[49m\u001b[43m,\u001b[49m\n\u001b[1;32m    889\u001b[0m \u001b[43m        \u001b[49m\u001b[43mlearning_rate\u001b[49m\u001b[38;5;241;43m=\u001b[39;49m\u001b[38;5;28;43mself\u001b[39;49m\u001b[38;5;241;43m.\u001b[39;49m\u001b[43mlearning_rate\u001b[49m\u001b[43m,\u001b[49m\n\u001b[1;32m    890\u001b[0m \u001b[43m        \u001b[49m\u001b[43mcoef_init\u001b[49m\u001b[38;5;241;43m=\u001b[39;49m\u001b[43mcoef_init\u001b[49m\u001b[43m,\u001b[49m\n\u001b[1;32m    891\u001b[0m \u001b[43m        \u001b[49m\u001b[43mintercept_init\u001b[49m\u001b[38;5;241;43m=\u001b[39;49m\u001b[43mintercept_init\u001b[49m\u001b[43m,\u001b[49m\n\u001b[1;32m    892\u001b[0m \u001b[43m        \u001b[49m\u001b[43msample_weight\u001b[49m\u001b[38;5;241;43m=\u001b[39;49m\u001b[43msample_weight\u001b[49m\u001b[43m,\u001b[49m\n\u001b[1;32m    893\u001b[0m \u001b[43m    \u001b[49m\u001b[43m)\u001b[49m\n",
      "File \u001b[0;32m~/miniconda3/envs/fproject/lib/python3.9/site-packages/sklearn/linear_model/_stochastic_gradient.py:677\u001b[0m, in \u001b[0;36mBaseSGDClassifier._fit\u001b[0;34m(self, X, y, alpha, C, loss, learning_rate, coef_init, intercept_init, sample_weight)\u001b[0m\n\u001b[1;32m    674\u001b[0m \u001b[38;5;66;03m# Clear iteration count for multiple call to fit.\u001b[39;00m\n\u001b[1;32m    675\u001b[0m \u001b[38;5;28mself\u001b[39m\u001b[38;5;241m.\u001b[39mt_ \u001b[38;5;241m=\u001b[39m \u001b[38;5;241m1.0\u001b[39m\n\u001b[0;32m--> 677\u001b[0m \u001b[38;5;28;43mself\u001b[39;49m\u001b[38;5;241;43m.\u001b[39;49m\u001b[43m_partial_fit\u001b[49m\u001b[43m(\u001b[49m\n\u001b[1;32m    678\u001b[0m \u001b[43m    \u001b[49m\u001b[43mX\u001b[49m\u001b[43m,\u001b[49m\n\u001b[1;32m    679\u001b[0m \u001b[43m    \u001b[49m\u001b[43my\u001b[49m\u001b[43m,\u001b[49m\n\u001b[1;32m    680\u001b[0m \u001b[43m    \u001b[49m\u001b[43malpha\u001b[49m\u001b[43m,\u001b[49m\n\u001b[1;32m    681\u001b[0m \u001b[43m    \u001b[49m\u001b[43mC\u001b[49m\u001b[43m,\u001b[49m\n\u001b[1;32m    682\u001b[0m \u001b[43m    \u001b[49m\u001b[43mloss\u001b[49m\u001b[43m,\u001b[49m\n\u001b[1;32m    683\u001b[0m \u001b[43m    \u001b[49m\u001b[43mlearning_rate\u001b[49m\u001b[43m,\u001b[49m\n\u001b[1;32m    684\u001b[0m \u001b[43m    \u001b[49m\u001b[38;5;28;43mself\u001b[39;49m\u001b[38;5;241;43m.\u001b[39;49m\u001b[43mmax_iter\u001b[49m\u001b[43m,\u001b[49m\n\u001b[1;32m    685\u001b[0m \u001b[43m    \u001b[49m\u001b[43mclasses\u001b[49m\u001b[43m,\u001b[49m\n\u001b[1;32m    686\u001b[0m \u001b[43m    \u001b[49m\u001b[43msample_weight\u001b[49m\u001b[43m,\u001b[49m\n\u001b[1;32m    687\u001b[0m \u001b[43m    \u001b[49m\u001b[43mcoef_init\u001b[49m\u001b[43m,\u001b[49m\n\u001b[1;32m    688\u001b[0m \u001b[43m    \u001b[49m\u001b[43mintercept_init\u001b[49m\u001b[43m,\u001b[49m\n\u001b[1;32m    689\u001b[0m \u001b[43m\u001b[49m\u001b[43m)\u001b[49m\n\u001b[1;32m    691\u001b[0m \u001b[38;5;28;01mif\u001b[39;00m (\n\u001b[1;32m    692\u001b[0m     \u001b[38;5;28mself\u001b[39m\u001b[38;5;241m.\u001b[39mtol \u001b[38;5;129;01mis\u001b[39;00m \u001b[38;5;129;01mnot\u001b[39;00m \u001b[38;5;28;01mNone\u001b[39;00m\n\u001b[1;32m    693\u001b[0m     \u001b[38;5;129;01mand\u001b[39;00m \u001b[38;5;28mself\u001b[39m\u001b[38;5;241m.\u001b[39mtol \u001b[38;5;241m>\u001b[39m \u001b[38;5;241m-\u001b[39mnp\u001b[38;5;241m.\u001b[39minf\n\u001b[1;32m    694\u001b[0m     \u001b[38;5;129;01mand\u001b[39;00m \u001b[38;5;28mself\u001b[39m\u001b[38;5;241m.\u001b[39mn_iter_ \u001b[38;5;241m==\u001b[39m \u001b[38;5;28mself\u001b[39m\u001b[38;5;241m.\u001b[39mmax_iter\n\u001b[1;32m    695\u001b[0m ):\n\u001b[1;32m    696\u001b[0m     warnings\u001b[38;5;241m.\u001b[39mwarn(\n\u001b[1;32m    697\u001b[0m         \u001b[38;5;124m\"\u001b[39m\u001b[38;5;124mMaximum number of iteration reached before \u001b[39m\u001b[38;5;124m\"\u001b[39m\n\u001b[1;32m    698\u001b[0m         \u001b[38;5;124m\"\u001b[39m\u001b[38;5;124mconvergence. Consider increasing max_iter to \u001b[39m\u001b[38;5;124m\"\u001b[39m\n\u001b[1;32m    699\u001b[0m         \u001b[38;5;124m\"\u001b[39m\u001b[38;5;124mimprove the fit.\u001b[39m\u001b[38;5;124m\"\u001b[39m,\n\u001b[1;32m    700\u001b[0m         ConvergenceWarning,\n\u001b[1;32m    701\u001b[0m     )\n",
      "File \u001b[0;32m~/miniconda3/envs/fproject/lib/python3.9/site-packages/sklearn/linear_model/_stochastic_gradient.py:572\u001b[0m, in \u001b[0;36mBaseSGDClassifier._partial_fit\u001b[0;34m(self, X, y, alpha, C, loss, learning_rate, max_iter, classes, sample_weight, coef_init, intercept_init)\u001b[0m\n\u001b[1;32m    557\u001b[0m \u001b[38;5;28;01mdef\u001b[39;00m \u001b[38;5;21m_partial_fit\u001b[39m(\n\u001b[1;32m    558\u001b[0m     \u001b[38;5;28mself\u001b[39m,\n\u001b[1;32m    559\u001b[0m     X,\n\u001b[0;32m   (...)\u001b[0m\n\u001b[1;32m    569\u001b[0m     intercept_init,\n\u001b[1;32m    570\u001b[0m ):\n\u001b[1;32m    571\u001b[0m     first_call \u001b[38;5;241m=\u001b[39m \u001b[38;5;129;01mnot\u001b[39;00m \u001b[38;5;28mhasattr\u001b[39m(\u001b[38;5;28mself\u001b[39m, \u001b[38;5;124m\"\u001b[39m\u001b[38;5;124mclasses_\u001b[39m\u001b[38;5;124m\"\u001b[39m)\n\u001b[0;32m--> 572\u001b[0m     X, y \u001b[38;5;241m=\u001b[39m \u001b[38;5;28;43mself\u001b[39;49m\u001b[38;5;241;43m.\u001b[39;49m\u001b[43m_validate_data\u001b[49m\u001b[43m(\u001b[49m\n\u001b[1;32m    573\u001b[0m \u001b[43m        \u001b[49m\u001b[43mX\u001b[49m\u001b[43m,\u001b[49m\n\u001b[1;32m    574\u001b[0m \u001b[43m        \u001b[49m\u001b[43my\u001b[49m\u001b[43m,\u001b[49m\n\u001b[1;32m    575\u001b[0m \u001b[43m        \u001b[49m\u001b[43maccept_sparse\u001b[49m\u001b[38;5;241;43m=\u001b[39;49m\u001b[38;5;124;43m\"\u001b[39;49m\u001b[38;5;124;43mcsr\u001b[39;49m\u001b[38;5;124;43m\"\u001b[39;49m\u001b[43m,\u001b[49m\n\u001b[1;32m    576\u001b[0m \u001b[43m        \u001b[49m\u001b[43mdtype\u001b[49m\u001b[38;5;241;43m=\u001b[39;49m\u001b[43mnp\u001b[49m\u001b[38;5;241;43m.\u001b[39;49m\u001b[43mfloat64\u001b[49m\u001b[43m,\u001b[49m\n\u001b[1;32m    577\u001b[0m \u001b[43m        \u001b[49m\u001b[43morder\u001b[49m\u001b[38;5;241;43m=\u001b[39;49m\u001b[38;5;124;43m\"\u001b[39;49m\u001b[38;5;124;43mC\u001b[39;49m\u001b[38;5;124;43m\"\u001b[39;49m\u001b[43m,\u001b[49m\n\u001b[1;32m    578\u001b[0m \u001b[43m        \u001b[49m\u001b[43maccept_large_sparse\u001b[49m\u001b[38;5;241;43m=\u001b[39;49m\u001b[38;5;28;43;01mFalse\u001b[39;49;00m\u001b[43m,\u001b[49m\n\u001b[1;32m    579\u001b[0m \u001b[43m        \u001b[49m\u001b[43mreset\u001b[49m\u001b[38;5;241;43m=\u001b[39;49m\u001b[43mfirst_call\u001b[49m\u001b[43m,\u001b[49m\n\u001b[1;32m    580\u001b[0m \u001b[43m    \u001b[49m\u001b[43m)\u001b[49m\n\u001b[1;32m    582\u001b[0m     n_samples, n_features \u001b[38;5;241m=\u001b[39m X\u001b[38;5;241m.\u001b[39mshape\n\u001b[1;32m    584\u001b[0m     _check_partial_fit_first_call(\u001b[38;5;28mself\u001b[39m, classes)\n",
      "File \u001b[0;32m~/miniconda3/envs/fproject/lib/python3.9/site-packages/sklearn/base.py:581\u001b[0m, in \u001b[0;36mBaseEstimator._validate_data\u001b[0;34m(self, X, y, reset, validate_separately, **check_params)\u001b[0m\n\u001b[1;32m    579\u001b[0m         y \u001b[38;5;241m=\u001b[39m check_array(y, \u001b[38;5;241m*\u001b[39m\u001b[38;5;241m*\u001b[39mcheck_y_params)\n\u001b[1;32m    580\u001b[0m     \u001b[38;5;28;01melse\u001b[39;00m:\n\u001b[0;32m--> 581\u001b[0m         X, y \u001b[38;5;241m=\u001b[39m \u001b[43mcheck_X_y\u001b[49m\u001b[43m(\u001b[49m\u001b[43mX\u001b[49m\u001b[43m,\u001b[49m\u001b[43m \u001b[49m\u001b[43my\u001b[49m\u001b[43m,\u001b[49m\u001b[43m \u001b[49m\u001b[38;5;241;43m*\u001b[39;49m\u001b[38;5;241;43m*\u001b[39;49m\u001b[43mcheck_params\u001b[49m\u001b[43m)\u001b[49m\n\u001b[1;32m    582\u001b[0m     out \u001b[38;5;241m=\u001b[39m X, y\n\u001b[1;32m    584\u001b[0m \u001b[38;5;28;01mif\u001b[39;00m \u001b[38;5;129;01mnot\u001b[39;00m no_val_X \u001b[38;5;129;01mand\u001b[39;00m check_params\u001b[38;5;241m.\u001b[39mget(\u001b[38;5;124m\"\u001b[39m\u001b[38;5;124mensure_2d\u001b[39m\u001b[38;5;124m\"\u001b[39m, \u001b[38;5;28;01mTrue\u001b[39;00m):\n",
      "File \u001b[0;32m~/miniconda3/envs/fproject/lib/python3.9/site-packages/sklearn/utils/validation.py:964\u001b[0m, in \u001b[0;36mcheck_X_y\u001b[0;34m(X, y, accept_sparse, accept_large_sparse, dtype, order, copy, force_all_finite, ensure_2d, allow_nd, multi_output, ensure_min_samples, ensure_min_features, y_numeric, estimator)\u001b[0m\n\u001b[1;32m    961\u001b[0m \u001b[38;5;28;01mif\u001b[39;00m y \u001b[38;5;129;01mis\u001b[39;00m \u001b[38;5;28;01mNone\u001b[39;00m:\n\u001b[1;32m    962\u001b[0m     \u001b[38;5;28;01mraise\u001b[39;00m \u001b[38;5;167;01mValueError\u001b[39;00m(\u001b[38;5;124m\"\u001b[39m\u001b[38;5;124my cannot be None\u001b[39m\u001b[38;5;124m\"\u001b[39m)\n\u001b[0;32m--> 964\u001b[0m X \u001b[38;5;241m=\u001b[39m \u001b[43mcheck_array\u001b[49m\u001b[43m(\u001b[49m\n\u001b[1;32m    965\u001b[0m \u001b[43m    \u001b[49m\u001b[43mX\u001b[49m\u001b[43m,\u001b[49m\n\u001b[1;32m    966\u001b[0m \u001b[43m    \u001b[49m\u001b[43maccept_sparse\u001b[49m\u001b[38;5;241;43m=\u001b[39;49m\u001b[43maccept_sparse\u001b[49m\u001b[43m,\u001b[49m\n\u001b[1;32m    967\u001b[0m \u001b[43m    \u001b[49m\u001b[43maccept_large_sparse\u001b[49m\u001b[38;5;241;43m=\u001b[39;49m\u001b[43maccept_large_sparse\u001b[49m\u001b[43m,\u001b[49m\n\u001b[1;32m    968\u001b[0m \u001b[43m    \u001b[49m\u001b[43mdtype\u001b[49m\u001b[38;5;241;43m=\u001b[39;49m\u001b[43mdtype\u001b[49m\u001b[43m,\u001b[49m\n\u001b[1;32m    969\u001b[0m \u001b[43m    \u001b[49m\u001b[43morder\u001b[49m\u001b[38;5;241;43m=\u001b[39;49m\u001b[43morder\u001b[49m\u001b[43m,\u001b[49m\n\u001b[1;32m    970\u001b[0m \u001b[43m    \u001b[49m\u001b[43mcopy\u001b[49m\u001b[38;5;241;43m=\u001b[39;49m\u001b[43mcopy\u001b[49m\u001b[43m,\u001b[49m\n\u001b[1;32m    971\u001b[0m \u001b[43m    \u001b[49m\u001b[43mforce_all_finite\u001b[49m\u001b[38;5;241;43m=\u001b[39;49m\u001b[43mforce_all_finite\u001b[49m\u001b[43m,\u001b[49m\n\u001b[1;32m    972\u001b[0m \u001b[43m    \u001b[49m\u001b[43mensure_2d\u001b[49m\u001b[38;5;241;43m=\u001b[39;49m\u001b[43mensure_2d\u001b[49m\u001b[43m,\u001b[49m\n\u001b[1;32m    973\u001b[0m \u001b[43m    \u001b[49m\u001b[43mallow_nd\u001b[49m\u001b[38;5;241;43m=\u001b[39;49m\u001b[43mallow_nd\u001b[49m\u001b[43m,\u001b[49m\n\u001b[1;32m    974\u001b[0m \u001b[43m    \u001b[49m\u001b[43mensure_min_samples\u001b[49m\u001b[38;5;241;43m=\u001b[39;49m\u001b[43mensure_min_samples\u001b[49m\u001b[43m,\u001b[49m\n\u001b[1;32m    975\u001b[0m \u001b[43m    \u001b[49m\u001b[43mensure_min_features\u001b[49m\u001b[38;5;241;43m=\u001b[39;49m\u001b[43mensure_min_features\u001b[49m\u001b[43m,\u001b[49m\n\u001b[1;32m    976\u001b[0m \u001b[43m    \u001b[49m\u001b[43mestimator\u001b[49m\u001b[38;5;241;43m=\u001b[39;49m\u001b[43mestimator\u001b[49m\u001b[43m,\u001b[49m\n\u001b[1;32m    977\u001b[0m \u001b[43m\u001b[49m\u001b[43m)\u001b[49m\n\u001b[1;32m    979\u001b[0m y \u001b[38;5;241m=\u001b[39m _check_y(y, multi_output\u001b[38;5;241m=\u001b[39mmulti_output, y_numeric\u001b[38;5;241m=\u001b[39my_numeric)\n\u001b[1;32m    981\u001b[0m check_consistent_length(X, y)\n",
      "File \u001b[0;32m~/miniconda3/envs/fproject/lib/python3.9/site-packages/sklearn/utils/validation.py:746\u001b[0m, in \u001b[0;36mcheck_array\u001b[0;34m(array, accept_sparse, accept_large_sparse, dtype, order, copy, force_all_finite, ensure_2d, allow_nd, ensure_min_samples, ensure_min_features, estimator)\u001b[0m\n\u001b[1;32m    744\u001b[0m         array \u001b[38;5;241m=\u001b[39m array\u001b[38;5;241m.\u001b[39mastype(dtype, casting\u001b[38;5;241m=\u001b[39m\u001b[38;5;124m\"\u001b[39m\u001b[38;5;124munsafe\u001b[39m\u001b[38;5;124m\"\u001b[39m, copy\u001b[38;5;241m=\u001b[39m\u001b[38;5;28;01mFalse\u001b[39;00m)\n\u001b[1;32m    745\u001b[0m     \u001b[38;5;28;01melse\u001b[39;00m:\n\u001b[0;32m--> 746\u001b[0m         array \u001b[38;5;241m=\u001b[39m \u001b[43mnp\u001b[49m\u001b[38;5;241;43m.\u001b[39;49m\u001b[43masarray\u001b[49m\u001b[43m(\u001b[49m\u001b[43marray\u001b[49m\u001b[43m,\u001b[49m\u001b[43m \u001b[49m\u001b[43morder\u001b[49m\u001b[38;5;241;43m=\u001b[39;49m\u001b[43morder\u001b[49m\u001b[43m,\u001b[49m\u001b[43m \u001b[49m\u001b[43mdtype\u001b[49m\u001b[38;5;241;43m=\u001b[39;49m\u001b[43mdtype\u001b[49m\u001b[43m)\u001b[49m\n\u001b[1;32m    747\u001b[0m \u001b[38;5;28;01mexcept\u001b[39;00m ComplexWarning \u001b[38;5;28;01mas\u001b[39;00m complex_warning:\n\u001b[1;32m    748\u001b[0m     \u001b[38;5;28;01mraise\u001b[39;00m \u001b[38;5;167;01mValueError\u001b[39;00m(\n\u001b[1;32m    749\u001b[0m         \u001b[38;5;124m\"\u001b[39m\u001b[38;5;124mComplex data not supported\u001b[39m\u001b[38;5;130;01m\\n\u001b[39;00m\u001b[38;5;132;01m{}\u001b[39;00m\u001b[38;5;130;01m\\n\u001b[39;00m\u001b[38;5;124m\"\u001b[39m\u001b[38;5;241m.\u001b[39mformat(array)\n\u001b[1;32m    750\u001b[0m     ) \u001b[38;5;28;01mfrom\u001b[39;00m \u001b[38;5;21;01mcomplex_warning\u001b[39;00m\n",
      "\u001b[0;31mValueError\u001b[0m: setting an array element with a sequence."
     ]
    }
   ],
   "source": [
    "metric_fn = zip([\"f1\",\"acc\",\"precision\",\"recall\"],[f1_score,accuracy_score, precision_score, recall_score])\n",
    "\n",
    "results = {k:{} for k in [\"f1\",\"acc\",\"precision\",\"recall\"]}\n",
    "for name, model in models.items():\n",
    "    model.fit(X_train,y_train)\n",
    "    y_pred = model.predict(X_test)\n",
    "    for name_metric, metric in metric_fn:\n",
    "        print(name_metric, name)\n",
    "        if name_metric == \"acc\":\n",
    "            results[name_metric][name] = metric(y_test,y_pred)\n",
    "        else:\n",
    "            results[name_metric][name] = metric(y_test,y_pred, average=\"macro\")"
   ]
  },
  {
   "cell_type": "code",
   "execution_count": null,
   "id": "1472301e",
   "metadata": {},
   "outputs": [],
   "source": [
    "results"
   ]
  },
  {
   "cell_type": "code",
   "execution_count": null,
   "id": "7d7308e7",
   "metadata": {},
   "outputs": [],
   "source": []
  },
  {
   "cell_type": "code",
   "execution_count": null,
   "id": "bee835d4",
   "metadata": {},
   "outputs": [],
   "source": []
  },
  {
   "cell_type": "code",
   "execution_count": null,
   "id": "783327e1",
   "metadata": {},
   "outputs": [],
   "source": []
  },
  {
   "cell_type": "code",
   "execution_count": null,
   "id": "02741429",
   "metadata": {},
   "outputs": [],
   "source": []
  },
  {
   "cell_type": "code",
   "execution_count": null,
   "id": "f3cdfe60",
   "metadata": {},
   "outputs": [],
   "source": []
  },
  {
   "cell_type": "code",
   "execution_count": null,
   "id": "7590d6fc",
   "metadata": {},
   "outputs": [],
   "source": []
  },
  {
   "cell_type": "code",
   "execution_count": null,
   "id": "c776743a",
   "metadata": {},
   "outputs": [],
   "source": []
  },
  {
   "cell_type": "code",
   "execution_count": null,
   "id": "349e8020",
   "metadata": {},
   "outputs": [],
   "source": []
  },
  {
   "cell_type": "code",
   "execution_count": null,
   "id": "e331d3bd",
   "metadata": {},
   "outputs": [],
   "source": []
  },
  {
   "cell_type": "code",
   "execution_count": null,
   "id": "c2037577",
   "metadata": {},
   "outputs": [],
   "source": []
  },
  {
   "cell_type": "code",
   "execution_count": null,
   "id": "bc7eb629",
   "metadata": {},
   "outputs": [],
   "source": []
  },
  {
   "cell_type": "code",
   "execution_count": null,
   "id": "9084b012",
   "metadata": {},
   "outputs": [],
   "source": []
  },
  {
   "cell_type": "code",
   "execution_count": null,
   "id": "ccc68fdd",
   "metadata": {},
   "outputs": [],
   "source": []
  },
  {
   "cell_type": "code",
   "execution_count": null,
   "id": "866e6ccb",
   "metadata": {},
   "outputs": [],
   "source": []
  },
  {
   "cell_type": "code",
   "execution_count": null,
   "id": "a6f21501",
   "metadata": {},
   "outputs": [],
   "source": []
  },
  {
   "cell_type": "code",
   "execution_count": null,
   "id": "6472b30c",
   "metadata": {},
   "outputs": [],
   "source": []
  }
 ],
 "metadata": {
  "kernelspec": {
   "display_name": "Python 3 (ipykernel)",
   "language": "python",
   "name": "python3"
  },
  "language_info": {
   "codemirror_mode": {
    "name": "ipython",
    "version": 3
   },
   "file_extension": ".py",
   "mimetype": "text/x-python",
   "name": "python",
   "nbconvert_exporter": "python",
   "pygments_lexer": "ipython3",
   "version": "3.9.12"
  }
 },
 "nbformat": 4,
 "nbformat_minor": 5
}
