{
 "cells": [
  {
   "cell_type": "code",
   "execution_count": 10,
   "id": "9152891d",
   "metadata": {},
   "outputs": [],
   "source": [
    "import os\n",
    "import numpy as np\n",
    "import cv2\n",
    "import mediapipe as mp\n",
    "from os import listdir\n",
    "mp_drawing = mp.solutions.drawing_utils\n",
    "mp_drawing_styles = mp.solutions.drawing_styles\n",
    "mp_hands = mp.solutions.hands"
   ]
  },
  {
   "cell_type": "code",
   "execution_count": 11,
   "id": "33575593",
   "metadata": {},
   "outputs": [],
   "source": [
    "HEIGHT= 200\n",
    "WIDTH= 200\n",
    "\n",
    "own_dataset_path=\"own_dataset\"\n",
    "own_dataset= os.listdir(own_dataset_path)\n",
    "\n",
    "IMAGE_FILES=[]\n",
    "X_ownd=[]\n",
    "y_ownd=[]"
   ]
  },
  {
   "cell_type": "code",
   "execution_count": 12,
   "id": "504ab11b",
   "metadata": {},
   "outputs": [],
   "source": [
    "for folder in own_dataset:\n",
    "  sign_language= os.listdir(f\"{own_dataset_path}/{folder}\")\n",
    "  for images in sign_language:\n",
    "      IMAGE_FILES.append(f\"{own_dataset_path}/{folder}/{images}\")"
   ]
  },
  {
   "cell_type": "code",
   "execution_count": null,
   "id": "b4316ac4",
   "metadata": {},
   "outputs": [],
   "source": [
    "with mp_hands.Hands(\n",
    "    static_image_mode=True,\n",
    "    max_num_hands=1,\n",
    "    min_detection_confidence=0.5) as hands:\n",
    "  for idx, file in enumerate(IMAGE_FILES):\n",
    "    image = cv2.imread(file)\n",
    "    results = hands.process(cv2.cvtColor(image, cv2.COLOR_BGR2RGB))\n",
    "\n",
    "    if not results.multi_hand_landmarks:\n",
    "      continue"
   ]
  },
  {
   "cell_type": "code",
   "execution_count": null,
   "id": "85b39113",
   "metadata": {},
   "outputs": [],
   "source": [
    "    land= []\n",
    "    for hand_landmarks in results.multi_hand_landmarks:\n",
    "      for landmarks in hand_landmarks.landmark:\n",
    "        land.append(landmarks.x)\n",
    "        land.append(landmarks.y)\n",
    "        land.append(landmarks.z)"
   ]
  },
  {
   "cell_type": "code",
   "execution_count": null,
   "id": "5e8e9c94",
   "metadata": {},
   "outputs": [],
   "source": [
    "X_ownd.append(land)\n",
    "y_ownd.append(file.split(\"/\")[1])\n",
    "X_ownd=np.array(X_ownd)\n",
    "y_ownd=np.array(y_ownd)\n",
    "np.save(\"data_np/x.npy\", X_ownd) \n",
    "np.save(\"data_np/y.npy\", y_ownd)"
   ]
  },
  {
   "cell_type": "code",
   "execution_count": null,
   "id": "afeec877",
   "metadata": {},
   "outputs": [],
   "source": []
  },
  {
   "cell_type": "code",
   "execution_count": null,
   "id": "703a8d2e",
   "metadata": {},
   "outputs": [],
   "source": []
  }
 ],
 "metadata": {
  "kernelspec": {
   "display_name": "Python 3 (ipykernel)",
   "language": "python",
   "name": "python3"
  },
  "language_info": {
   "codemirror_mode": {
    "name": "ipython",
    "version": 3
   },
   "file_extension": ".py",
   "mimetype": "text/x-python",
   "name": "python",
   "nbconvert_exporter": "python",
   "pygments_lexer": "ipython3",
   "version": "3.9.12"
  }
 },
 "nbformat": 4,
 "nbformat_minor": 5
}
