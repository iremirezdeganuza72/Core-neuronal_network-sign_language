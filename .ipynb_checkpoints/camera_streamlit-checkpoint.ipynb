{
 "cells": [
  {
   "cell_type": "code",
   "execution_count": 11,
   "id": "6510bf65",
   "metadata": {},
   "outputs": [],
   "source": [
    "import cv2\n",
    "import streamlit as st"
   ]
  },
  {
   "cell_type": "code",
   "execution_count": 12,
   "id": "3f52442d",
   "metadata": {},
   "outputs": [
    {
     "data": {
      "text/plain": [
       "DeltaGenerator(_root_container=0, _provided_cursor=None, _parent=None, _block_type=None, _form_data=None)"
      ]
     },
     "execution_count": 12,
     "metadata": {},
     "output_type": "execute_result"
    }
   ],
   "source": [
    "st.title(\"Webcam Application\")"
   ]
  },
  {
   "cell_type": "code",
   "execution_count": 13,
   "id": "fa4db1e2",
   "metadata": {},
   "outputs": [],
   "source": [
    "run=st.checkbox(\"run\")"
   ]
  },
  {
   "cell_type": "code",
   "execution_count": 14,
   "id": "af90b497",
   "metadata": {},
   "outputs": [],
   "source": [
    "FRAME_WINDOW=st.image([])"
   ]
  },
  {
   "cell_type": "code",
   "execution_count": 15,
   "id": "374747ff",
   "metadata": {},
   "outputs": [
    {
     "name": "stderr",
     "output_type": "stream",
     "text": [
      "[ WARN:0@325.215] global /io/opencv/modules/videoio/src/cap_v4l.cpp (902) open VIDEOIO(V4L2:/dev/video0): can't open camera by index\n"
     ]
    }
   ],
   "source": [
    "cam=cv2.VideoCapture(1)"
   ]
  },
  {
   "cell_type": "code",
   "execution_count": 16,
   "id": "fdfeb250",
   "metadata": {},
   "outputs": [],
   "source": [
    "while run:\n",
    "    ret, frame= cam.read()\n",
    "    frame = cv2.cvtColor(frame,cv2.COLOR_BGR2RGB)\n",
    "    FRAME_WINDOW.image(frame)\n",
    "else:\n",
    "    st.write(\"Stopped\")"
   ]
  },
  {
   "cell_type": "code",
   "execution_count": null,
   "id": "24ed8a8a",
   "metadata": {},
   "outputs": [],
   "source": []
  },
  {
   "cell_type": "code",
   "execution_count": null,
   "id": "a13a3724",
   "metadata": {},
   "outputs": [],
   "source": []
  }
 ],
 "metadata": {
  "kernelspec": {
   "display_name": "Python 3 (ipykernel)",
   "language": "python",
   "name": "python3"
  },
  "language_info": {
   "codemirror_mode": {
    "name": "ipython",
    "version": 3
   },
   "file_extension": ".py",
   "mimetype": "text/x-python",
   "name": "python",
   "nbconvert_exporter": "python",
   "pygments_lexer": "ipython3",
   "version": "3.9.12"
  },
  "vscode": {
   "interpreter": {
    "hash": "9ecfd48840a2dfbab88768852dcbcba3d4a3dd6e3302abfd80a63a47d87986f3"
   }
  }
 },
 "nbformat": 4,
 "nbformat_minor": 5
}
