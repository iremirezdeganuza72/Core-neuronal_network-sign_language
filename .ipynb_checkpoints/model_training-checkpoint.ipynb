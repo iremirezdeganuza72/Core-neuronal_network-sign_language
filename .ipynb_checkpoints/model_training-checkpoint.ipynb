{
 "cells": [
  {
   "cell_type": "code",
   "execution_count": 1,
   "id": "6cde48c4",
   "metadata": {},
   "outputs": [],
   "source": [
    "import numpy as np\n",
    "import pandas as pd\n",
    "from sklearn.model_selection import train_test_split \n",
    "from sklearn.ensemble import RandomForestClassifier\n",
    "from sklearn.linear_model import LogisticRegression, SGDClassifier\n",
    "from sklearn.neighbors import KNeighborsClassifier\n",
    "from sklearn.svm import SVC\n",
    "from sklearn.metrics import accuracy_score, precision_score, recall_score, f1_score\n",
    "import joblib\n",
    "import seaborn as sns\n",
    "import matplotlib.pyplot as plt\n",
    "from sklearn.metrics import confusion_matrix"
   ]
  },
  {
   "cell_type": "code",
   "execution_count": 2,
   "id": "eefb9d08",
   "metadata": {},
   "outputs": [],
   "source": [
    "X = np.load(\"data_np/x.npy\",allow_pickle=True)"
   ]
  },
  {
   "cell_type": "code",
   "execution_count": 3,
   "id": "d38bf360",
   "metadata": {},
   "outputs": [],
   "source": [
    "y = np.load(\"data_np/y.npy\")"
   ]
  },
  {
   "cell_type": "code",
   "execution_count": 4,
   "id": "e19b0e5c",
   "metadata": {},
   "outputs": [],
   "source": [
    "X = pd.DataFrame(X)"
   ]
  },
  {
   "cell_type": "code",
   "execution_count": 5,
   "id": "4b7c1232",
   "metadata": {
    "scrolled": false
   },
   "outputs": [
    {
     "data": {
      "text/html": [
       "<div>\n",
       "<style scoped>\n",
       "    .dataframe tbody tr th:only-of-type {\n",
       "        vertical-align: middle;\n",
       "    }\n",
       "\n",
       "    .dataframe tbody tr th {\n",
       "        vertical-align: top;\n",
       "    }\n",
       "\n",
       "    .dataframe thead th {\n",
       "        text-align: right;\n",
       "    }\n",
       "</style>\n",
       "<table border=\"1\" class=\"dataframe\">\n",
       "  <thead>\n",
       "    <tr style=\"text-align: right;\">\n",
       "      <th></th>\n",
       "      <th>0</th>\n",
       "      <th>1</th>\n",
       "      <th>2</th>\n",
       "      <th>3</th>\n",
       "      <th>4</th>\n",
       "      <th>5</th>\n",
       "      <th>6</th>\n",
       "      <th>7</th>\n",
       "      <th>8</th>\n",
       "      <th>9</th>\n",
       "      <th>...</th>\n",
       "      <th>53</th>\n",
       "      <th>54</th>\n",
       "      <th>55</th>\n",
       "      <th>56</th>\n",
       "      <th>57</th>\n",
       "      <th>58</th>\n",
       "      <th>59</th>\n",
       "      <th>60</th>\n",
       "      <th>61</th>\n",
       "      <th>62</th>\n",
       "    </tr>\n",
       "  </thead>\n",
       "  <tbody>\n",
       "    <tr>\n",
       "      <th>0</th>\n",
       "      <td>0.403711</td>\n",
       "      <td>0.794279</td>\n",
       "      <td>-8.020860e-07</td>\n",
       "      <td>0.442649</td>\n",
       "      <td>0.714280</td>\n",
       "      <td>-0.051895</td>\n",
       "      <td>0.412139</td>\n",
       "      <td>0.616973</td>\n",
       "      <td>-0.069135</td>\n",
       "      <td>0.311323</td>\n",
       "      <td>...</td>\n",
       "      <td>-0.021733</td>\n",
       "      <td>0.096725</td>\n",
       "      <td>0.596994</td>\n",
       "      <td>-0.042761</td>\n",
       "      <td>0.048448</td>\n",
       "      <td>0.569356</td>\n",
       "      <td>-0.044506</td>\n",
       "      <td>0.013682</td>\n",
       "      <td>0.539196</td>\n",
       "      <td>-0.040053</td>\n",
       "    </tr>\n",
       "    <tr>\n",
       "      <th>1</th>\n",
       "      <td>0.721911</td>\n",
       "      <td>0.814866</td>\n",
       "      <td>-3.744981e-07</td>\n",
       "      <td>0.761512</td>\n",
       "      <td>0.734559</td>\n",
       "      <td>-0.056181</td>\n",
       "      <td>0.741184</td>\n",
       "      <td>0.647540</td>\n",
       "      <td>-0.089188</td>\n",
       "      <td>0.651342</td>\n",
       "      <td>...</td>\n",
       "      <td>-0.055468</td>\n",
       "      <td>0.378097</td>\n",
       "      <td>0.647786</td>\n",
       "      <td>-0.090371</td>\n",
       "      <td>0.304933</td>\n",
       "      <td>0.626652</td>\n",
       "      <td>-0.104968</td>\n",
       "      <td>0.238964</td>\n",
       "      <td>0.604049</td>\n",
       "      <td>-0.111262</td>\n",
       "    </tr>\n",
       "    <tr>\n",
       "      <th>2</th>\n",
       "      <td>0.677965</td>\n",
       "      <td>0.713990</td>\n",
       "      <td>-1.254092e-06</td>\n",
       "      <td>0.760617</td>\n",
       "      <td>0.577717</td>\n",
       "      <td>-0.063885</td>\n",
       "      <td>0.747552</td>\n",
       "      <td>0.392840</td>\n",
       "      <td>-0.079731</td>\n",
       "      <td>0.607363</td>\n",
       "      <td>...</td>\n",
       "      <td>-0.011281</td>\n",
       "      <td>0.339770</td>\n",
       "      <td>0.334143</td>\n",
       "      <td>-0.039268</td>\n",
       "      <td>0.290206</td>\n",
       "      <td>0.270397</td>\n",
       "      <td>-0.042736</td>\n",
       "      <td>0.246195</td>\n",
       "      <td>0.206091</td>\n",
       "      <td>-0.037759</td>\n",
       "    </tr>\n",
       "    <tr>\n",
       "      <th>3</th>\n",
       "      <td>0.774631</td>\n",
       "      <td>0.942478</td>\n",
       "      <td>-7.950575e-07</td>\n",
       "      <td>0.816705</td>\n",
       "      <td>0.850185</td>\n",
       "      <td>-0.045247</td>\n",
       "      <td>0.806996</td>\n",
       "      <td>0.726698</td>\n",
       "      <td>-0.061313</td>\n",
       "      <td>0.716656</td>\n",
       "      <td>...</td>\n",
       "      <td>-0.028496</td>\n",
       "      <td>0.460449</td>\n",
       "      <td>0.773093</td>\n",
       "      <td>-0.051645</td>\n",
       "      <td>0.409721</td>\n",
       "      <td>0.736953</td>\n",
       "      <td>-0.059421</td>\n",
       "      <td>0.359050</td>\n",
       "      <td>0.700553</td>\n",
       "      <td>-0.059773</td>\n",
       "    </tr>\n",
       "    <tr>\n",
       "      <th>4</th>\n",
       "      <td>0.727643</td>\n",
       "      <td>0.433186</td>\n",
       "      <td>-1.427931e-07</td>\n",
       "      <td>0.756823</td>\n",
       "      <td>0.357974</td>\n",
       "      <td>-0.015205</td>\n",
       "      <td>0.750292</td>\n",
       "      <td>0.284807</td>\n",
       "      <td>-0.020253</td>\n",
       "      <td>0.689344</td>\n",
       "      <td>...</td>\n",
       "      <td>-0.012115</td>\n",
       "      <td>0.551190</td>\n",
       "      <td>0.308289</td>\n",
       "      <td>-0.019106</td>\n",
       "      <td>0.542752</td>\n",
       "      <td>0.274004</td>\n",
       "      <td>-0.017853</td>\n",
       "      <td>0.541843</td>\n",
       "      <td>0.243772</td>\n",
       "      <td>-0.014892</td>\n",
       "    </tr>\n",
       "    <tr>\n",
       "      <th>...</th>\n",
       "      <td>...</td>\n",
       "      <td>...</td>\n",
       "      <td>...</td>\n",
       "      <td>...</td>\n",
       "      <td>...</td>\n",
       "      <td>...</td>\n",
       "      <td>...</td>\n",
       "      <td>...</td>\n",
       "      <td>...</td>\n",
       "      <td>...</td>\n",
       "      <td>...</td>\n",
       "      <td>...</td>\n",
       "      <td>...</td>\n",
       "      <td>...</td>\n",
       "      <td>...</td>\n",
       "      <td>...</td>\n",
       "      <td>...</td>\n",
       "      <td>...</td>\n",
       "      <td>...</td>\n",
       "      <td>...</td>\n",
       "      <td>...</td>\n",
       "    </tr>\n",
       "    <tr>\n",
       "      <th>60342</th>\n",
       "      <td>0.334535</td>\n",
       "      <td>0.681720</td>\n",
       "      <td>3.872807e-07</td>\n",
       "      <td>0.424623</td>\n",
       "      <td>0.683510</td>\n",
       "      <td>-0.039779</td>\n",
       "      <td>0.520323</td>\n",
       "      <td>0.646395</td>\n",
       "      <td>-0.059375</td>\n",
       "      <td>0.526698</td>\n",
       "      <td>...</td>\n",
       "      <td>-0.044524</td>\n",
       "      <td>0.385024</td>\n",
       "      <td>0.451421</td>\n",
       "      <td>-0.093344</td>\n",
       "      <td>0.373702</td>\n",
       "      <td>0.514945</td>\n",
       "      <td>-0.080138</td>\n",
       "      <td>0.351357</td>\n",
       "      <td>0.563660</td>\n",
       "      <td>-0.054550</td>\n",
       "    </tr>\n",
       "    <tr>\n",
       "      <th>60343</th>\n",
       "      <td>0.437155</td>\n",
       "      <td>0.797488</td>\n",
       "      <td>1.361983e-07</td>\n",
       "      <td>0.551194</td>\n",
       "      <td>0.789390</td>\n",
       "      <td>-0.051698</td>\n",
       "      <td>0.643953</td>\n",
       "      <td>0.709079</td>\n",
       "      <td>-0.058771</td>\n",
       "      <td>0.623015</td>\n",
       "      <td>...</td>\n",
       "      <td>-0.010615</td>\n",
       "      <td>0.484762</td>\n",
       "      <td>0.523887</td>\n",
       "      <td>-0.077811</td>\n",
       "      <td>0.457395</td>\n",
       "      <td>0.591682</td>\n",
       "      <td>-0.074086</td>\n",
       "      <td>0.429214</td>\n",
       "      <td>0.653563</td>\n",
       "      <td>-0.050840</td>\n",
       "    </tr>\n",
       "    <tr>\n",
       "      <th>60344</th>\n",
       "      <td>0.425220</td>\n",
       "      <td>0.397088</td>\n",
       "      <td>5.682258e-07</td>\n",
       "      <td>0.509811</td>\n",
       "      <td>0.423293</td>\n",
       "      <td>-0.033701</td>\n",
       "      <td>0.600901</td>\n",
       "      <td>0.387818</td>\n",
       "      <td>-0.046454</td>\n",
       "      <td>0.605543</td>\n",
       "      <td>...</td>\n",
       "      <td>-0.057991</td>\n",
       "      <td>0.466340</td>\n",
       "      <td>0.252287</td>\n",
       "      <td>-0.111588</td>\n",
       "      <td>0.448990</td>\n",
       "      <td>0.309154</td>\n",
       "      <td>-0.108774</td>\n",
       "      <td>0.430285</td>\n",
       "      <td>0.351497</td>\n",
       "      <td>-0.093308</td>\n",
       "    </tr>\n",
       "    <tr>\n",
       "      <th>60345</th>\n",
       "      <td>0.545571</td>\n",
       "      <td>0.286647</td>\n",
       "      <td>7.736505e-07</td>\n",
       "      <td>0.641654</td>\n",
       "      <td>0.296774</td>\n",
       "      <td>-0.032025</td>\n",
       "      <td>0.713170</td>\n",
       "      <td>0.250946</td>\n",
       "      <td>-0.037322</td>\n",
       "      <td>0.700835</td>\n",
       "      <td>...</td>\n",
       "      <td>-0.029537</td>\n",
       "      <td>0.596473</td>\n",
       "      <td>0.112456</td>\n",
       "      <td>-0.066906</td>\n",
       "      <td>0.597084</td>\n",
       "      <td>0.154825</td>\n",
       "      <td>-0.068310</td>\n",
       "      <td>0.588194</td>\n",
       "      <td>0.190680</td>\n",
       "      <td>-0.059204</td>\n",
       "    </tr>\n",
       "    <tr>\n",
       "      <th>60346</th>\n",
       "      <td>0.678932</td>\n",
       "      <td>0.856509</td>\n",
       "      <td>4.567934e-08</td>\n",
       "      <td>0.798780</td>\n",
       "      <td>0.857763</td>\n",
       "      <td>-0.023588</td>\n",
       "      <td>0.898377</td>\n",
       "      <td>0.795557</td>\n",
       "      <td>-0.026389</td>\n",
       "      <td>0.917102</td>\n",
       "      <td>...</td>\n",
       "      <td>-0.010496</td>\n",
       "      <td>0.767460</td>\n",
       "      <td>0.593059</td>\n",
       "      <td>-0.065915</td>\n",
       "      <td>0.779623</td>\n",
       "      <td>0.660786</td>\n",
       "      <td>-0.072922</td>\n",
       "      <td>0.764737</td>\n",
       "      <td>0.729535</td>\n",
       "      <td>-0.065048</td>\n",
       "    </tr>\n",
       "  </tbody>\n",
       "</table>\n",
       "<p>60347 rows × 63 columns</p>\n",
       "</div>"
      ],
      "text/plain": [
       "             0         1             2         3         4         5   \\\n",
       "0      0.403711  0.794279 -8.020860e-07  0.442649  0.714280 -0.051895   \n",
       "1      0.721911  0.814866 -3.744981e-07  0.761512  0.734559 -0.056181   \n",
       "2      0.677965  0.713990 -1.254092e-06  0.760617  0.577717 -0.063885   \n",
       "3      0.774631  0.942478 -7.950575e-07  0.816705  0.850185 -0.045247   \n",
       "4      0.727643  0.433186 -1.427931e-07  0.756823  0.357974 -0.015205   \n",
       "...         ...       ...           ...       ...       ...       ...   \n",
       "60342  0.334535  0.681720  3.872807e-07  0.424623  0.683510 -0.039779   \n",
       "60343  0.437155  0.797488  1.361983e-07  0.551194  0.789390 -0.051698   \n",
       "60344  0.425220  0.397088  5.682258e-07  0.509811  0.423293 -0.033701   \n",
       "60345  0.545571  0.286647  7.736505e-07  0.641654  0.296774 -0.032025   \n",
       "60346  0.678932  0.856509  4.567934e-08  0.798780  0.857763 -0.023588   \n",
       "\n",
       "             6         7         8         9   ...        53        54  \\\n",
       "0      0.412139  0.616973 -0.069135  0.311323  ... -0.021733  0.096725   \n",
       "1      0.741184  0.647540 -0.089188  0.651342  ... -0.055468  0.378097   \n",
       "2      0.747552  0.392840 -0.079731  0.607363  ... -0.011281  0.339770   \n",
       "3      0.806996  0.726698 -0.061313  0.716656  ... -0.028496  0.460449   \n",
       "4      0.750292  0.284807 -0.020253  0.689344  ... -0.012115  0.551190   \n",
       "...         ...       ...       ...       ...  ...       ...       ...   \n",
       "60342  0.520323  0.646395 -0.059375  0.526698  ... -0.044524  0.385024   \n",
       "60343  0.643953  0.709079 -0.058771  0.623015  ... -0.010615  0.484762   \n",
       "60344  0.600901  0.387818 -0.046454  0.605543  ... -0.057991  0.466340   \n",
       "60345  0.713170  0.250946 -0.037322  0.700835  ... -0.029537  0.596473   \n",
       "60346  0.898377  0.795557 -0.026389  0.917102  ... -0.010496  0.767460   \n",
       "\n",
       "             55        56        57        58        59        60        61  \\\n",
       "0      0.596994 -0.042761  0.048448  0.569356 -0.044506  0.013682  0.539196   \n",
       "1      0.647786 -0.090371  0.304933  0.626652 -0.104968  0.238964  0.604049   \n",
       "2      0.334143 -0.039268  0.290206  0.270397 -0.042736  0.246195  0.206091   \n",
       "3      0.773093 -0.051645  0.409721  0.736953 -0.059421  0.359050  0.700553   \n",
       "4      0.308289 -0.019106  0.542752  0.274004 -0.017853  0.541843  0.243772   \n",
       "...         ...       ...       ...       ...       ...       ...       ...   \n",
       "60342  0.451421 -0.093344  0.373702  0.514945 -0.080138  0.351357  0.563660   \n",
       "60343  0.523887 -0.077811  0.457395  0.591682 -0.074086  0.429214  0.653563   \n",
       "60344  0.252287 -0.111588  0.448990  0.309154 -0.108774  0.430285  0.351497   \n",
       "60345  0.112456 -0.066906  0.597084  0.154825 -0.068310  0.588194  0.190680   \n",
       "60346  0.593059 -0.065915  0.779623  0.660786 -0.072922  0.764737  0.729535   \n",
       "\n",
       "             62  \n",
       "0     -0.040053  \n",
       "1     -0.111262  \n",
       "2     -0.037759  \n",
       "3     -0.059773  \n",
       "4     -0.014892  \n",
       "...         ...  \n",
       "60342 -0.054550  \n",
       "60343 -0.050840  \n",
       "60344 -0.093308  \n",
       "60345 -0.059204  \n",
       "60346 -0.065048  \n",
       "\n",
       "[60347 rows x 63 columns]"
      ]
     },
     "execution_count": 5,
     "metadata": {},
     "output_type": "execute_result"
    }
   ],
   "source": [
    "X"
   ]
  },
  {
   "cell_type": "code",
   "execution_count": 6,
   "id": "e1250c47",
   "metadata": {},
   "outputs": [
    {
     "data": {
      "text/plain": [
       "0        J\n",
       "1        J\n",
       "2        J\n",
       "3        J\n",
       "4        J\n",
       "        ..\n",
       "60342    Z\n",
       "60343    Z\n",
       "60344    Z\n",
       "60345    Z\n",
       "60346    Z\n",
       "Length: 60347, dtype: object"
      ]
     },
     "execution_count": 6,
     "metadata": {},
     "output_type": "execute_result"
    }
   ],
   "source": [
    "y = pd.Series(y)\n",
    "y"
   ]
  },
  {
   "cell_type": "code",
   "execution_count": 7,
   "id": "6c24fab1",
   "metadata": {},
   "outputs": [],
   "source": [
    "X_train, X_test, y_train, y_test = train_test_split(X, y, test_size=0.2)"
   ]
  },
  {
   "cell_type": "code",
   "execution_count": 8,
   "id": "b8ba9faa",
   "metadata": {},
   "outputs": [],
   "source": [
    "models = {\n",
    "    \"SGD\":SGDClassifier(average = True),\n",
    "    \"KNN_3\":KNeighborsClassifier(3),\n",
    "    \"KNN_5\":KNeighborsClassifier(5),\n",
    "    \"KNN_7\":KNeighborsClassifier(7),\n",
    "    \"SVC\": SVC(),\n",
    "    \"RandomForest\": RandomForestClassifier(),\n",
    "    \"LogisticRegresion\": LogisticRegression()   \n",
    "}"
   ]
  },
  {
   "cell_type": "code",
   "execution_count": 20,
   "id": "dc9ab3f0",
   "metadata": {},
   "outputs": [
    {
     "name": "stdout",
     "output_type": "stream",
     "text": [
      "************SGD************\n",
      "Accuracy: 0.9483015741507871, Precision: 0.9483015741507871, Recall: 0.9483015741507871, F1: 0.9483015741507871\n",
      "************KNN_3************\n",
      "Accuracy: 0.9835128417564208, Precision: 0.9835128417564208, Recall: 0.9835128417564208, F1: 0.9835128417564208\n",
      "************KNN_5************\n",
      "Accuracy: 0.9779618889809445, Precision: 0.9779618889809445, Recall: 0.9779618889809445, F1: 0.9779618889809445\n",
      "************KNN_7************\n",
      "Accuracy: 0.9726594863297432, Precision: 0.9726594863297432, Recall: 0.9726594863297432, F1: 0.9726594863297432\n",
      "************SVC************\n",
      "Accuracy: 0.9731565865782933, Precision: 0.9731565865782933, Recall: 0.9731565865782933, F1: 0.9731565865782933\n",
      "************RandomForest************\n",
      "Accuracy: 0.9811101905550953, Precision: 0.9811101905550953, Recall: 0.9811101905550953, F1: 0.9811101905550953\n",
      "************LogisticRegresion************\n",
      "Accuracy: 0.9644573322286661, Precision: 0.9644573322286661, Recall: 0.9644573322286661, F1: 0.9644573322286661\n"
     ]
    },
    {
     "name": "stderr",
     "output_type": "stream",
     "text": [
      "/home/iremirezdeganuza/miniconda3/envs/fproject/lib/python3.9/site-packages/sklearn/linear_model/_logistic.py:814: ConvergenceWarning: lbfgs failed to converge (status=1):\n",
      "STOP: TOTAL NO. of ITERATIONS REACHED LIMIT.\n",
      "\n",
      "Increase the number of iterations (max_iter) or scale the data as shown in:\n",
      "    https://scikit-learn.org/stable/modules/preprocessing.html\n",
      "Please also refer to the documentation for alternative solver options:\n",
      "    https://scikit-learn.org/stable/modules/linear_model.html#logistic-regression\n",
      "  n_iter_i = _check_optimize_result(\n"
     ]
    }
   ],
   "source": [
    "for model_tag, model in models.items():\n",
    "    print(f\"************{model_tag}************\")\n",
    "    model.fit(X_train, y_train)\n",
    "    y_pred = model.predict(X_test)\n",
    "\n",
    "    accuracy = accuracy_score(y_test, y_pred)\n",
    "    precision = precision_score(y_test, y_pred, average='micro')\n",
    "    recall = recall_score(y_test, y_pred, average='micro')\n",
    "    f1 = f1_score(y_test, y_pred, average='micro')\n",
    "    \n",
    "    print(f\"Accuracy: {accuracy}, Precision: {precision}, Recall: {recall}, F1: {f1}\")"
   ]
  },
  {
   "cell_type": "markdown",
   "id": "d8a3cd4d",
   "metadata": {},
   "source": [
    "Guardo el modelo que mejores métricas ha tenido en una variable."
   ]
  },
  {
   "cell_type": "code",
   "execution_count": 13,
   "id": "d72ff02f",
   "metadata": {},
   "outputs": [
    {
     "data": {
      "text/plain": [
       "KNeighborsClassifier(n_neighbors=3)"
      ]
     },
     "execution_count": 13,
     "metadata": {},
     "output_type": "execute_result"
    }
   ],
   "source": [
    "knn= KNeighborsClassifier(n_neighbors=3)\n",
    "knn.fit(X, y)"
   ]
  },
  {
   "cell_type": "code",
   "execution_count": 14,
   "id": "c1a2e261",
   "metadata": {},
   "outputs": [
    {
     "data": {
      "text/plain": [
       "0.995940347970174"
      ]
     },
     "execution_count": 14,
     "metadata": {},
     "output_type": "execute_result"
    }
   ],
   "source": [
    "knn.score(X_test, y_test)"
   ]
  },
  {
   "cell_type": "code",
   "execution_count": 15,
   "id": "66f28a9c",
   "metadata": {},
   "outputs": [],
   "source": [
    "y_pred = knn.predict(X_test)"
   ]
  },
  {
   "cell_type": "code",
   "execution_count": 16,
   "id": "74a0eb31",
   "metadata": {},
   "outputs": [
    {
     "data": {
      "text/plain": [
       "0.995940347970174"
      ]
     },
     "execution_count": 16,
     "metadata": {},
     "output_type": "execute_result"
    }
   ],
   "source": [
    "accuracy_score(y_test,y_pred)"
   ]
  },
  {
   "cell_type": "code",
   "execution_count": 17,
   "id": "f40d1a3d",
   "metadata": {},
   "outputs": [
    {
     "data": {
      "text/plain": [
       "0.995940347970174"
      ]
     },
     "execution_count": 17,
     "metadata": {},
     "output_type": "execute_result"
    }
   ],
   "source": [
    "precision_score(y_test, y_pred, average='micro')"
   ]
  },
  {
   "cell_type": "code",
   "execution_count": 18,
   "id": "e941c978",
   "metadata": {},
   "outputs": [
    {
     "data": {
      "text/plain": [
       "0.995940347970174"
      ]
     },
     "execution_count": 18,
     "metadata": {},
     "output_type": "execute_result"
    }
   ],
   "source": [
    "recall_score(y_test, y_pred, average='micro')"
   ]
  },
  {
   "cell_type": "code",
   "execution_count": 19,
   "id": "edf50259",
   "metadata": {},
   "outputs": [
    {
     "data": {
      "text/plain": [
       "0.995940347970174"
      ]
     },
     "execution_count": 19,
     "metadata": {},
     "output_type": "execute_result"
    }
   ],
   "source": [
    "f1_score(y_test,y_pred, average='micro')"
   ]
  },
  {
   "cell_type": "code",
   "execution_count": 21,
   "id": "f7674f08",
   "metadata": {},
   "outputs": [],
   "source": [
    "cf_matrix = confusion_matrix(y_test, y_pred)\n",
    "conf = confusion_matrix(y_test, y_pred)"
   ]
  },
  {
   "cell_type": "code",
   "execution_count": 24,
   "id": "c9bdba97",
   "metadata": {},
   "outputs": [
    {
     "data": {
      "text/plain": [
       "Text(0.5, 51.0, 'Predicted')"
      ]
     },
     "execution_count": 24,
     "metadata": {},
     "output_type": "execute_result"
    },
    {
     "data": {
      "image/png": "[encoded data removed]",
      "text/plain": [
       "<Figure size 1152x576 with 2 Axes>"
      ]
     },
     "metadata": {
      "needs_background": "light"
     },
     "output_type": "display_data"
    }
   ],
   "source": [
    "letters = ['A', 'B', 'C', 'D','E', 'F', 'G', 'H ', 'I', 'J', 'K','L' ,'M','N','O','P','Q','R','S', 'T', 'U', 'V', 'W', 'X', 'Y', 'Z']\n",
    "plt.figure(figsize=(16,8))\n",
    "plt.title(\"Core-neuronal_network-sign_language\")\n",
    "np.fill_diagonal(conf,0)\n",
    "sns.heatmap(conf,\n",
    "            annot=True, \n",
    "            xticklabels=letters, \n",
    "            yticklabels=letters,\n",
    "            cmap=\"Reds\")\n",
    "plt.ylabel(\"Ground_truth\")\n",
    "plt.xlabel(\"Predicted\")"
   ]
  },
  {
   "cell_type": "code",
   "execution_count": 25,
   "id": "0a9736af",
   "metadata": {},
   "outputs": [
    {
     "name": "stderr",
     "output_type": "stream",
     "text": [
      "/tmp/ipykernel_288/1714598118.py:3: RuntimeWarning: invalid value encountered in true_divide\n",
      "  conf_norm= aux/aux.sum(axis=1)[:, np.newaxis]\n"
     ]
    },
    {
     "data": {
      "text/plain": [
       "Text(0.5, 69.0, 'Predicted')"
      ]
     },
     "execution_count": 25,
     "metadata": {},
     "output_type": "execute_result"
    },
    {
     "data": {
      "image/png": "[encoded data removed]",
      "text/plain": [
       "<Figure size 1440x720 with 2 Axes>"
      ]
     },
     "metadata": {
      "needs_background": "light"
     },
     "output_type": "display_data"
    }
   ],
   "source": [
    "letters = ['A', 'B', 'C', 'D','E', 'F', 'G', 'H ', 'I', 'J', 'K','L' ,'M','N','O','P','Q','R','S', 'T', 'U', 'V', 'W', 'X', 'Y', 'Z']\n",
    "aux=conf\n",
    "conf_norm= aux/aux.sum(axis=1)[:, np.newaxis]\n",
    "plt.figure(figsize=(20,10))\n",
    "plt.title(\"Core-neuronal_network-sign_language\")\n",
    "np.fill_diagonal(conf,0)\n",
    "sns.heatmap(conf/np.sum(conf),\n",
    "            annot=True,\n",
    "            xticklabels=letters, \n",
    "            yticklabels=letters,\n",
    "            fmt='.2f',\n",
    "            cmap=\"Blues\")\n",
    "plt.ylabel(\"Ground_truth\")\n",
    "plt.xlabel(\"Predicted\")"
   ]
  },
  {
   "cell_type": "markdown",
   "id": "782c1e3f",
   "metadata": {},
   "source": [
    "Guardo el modelo para poder probarlo con otro dataset."
   ]
  },
  {
   "cell_type": "code",
   "execution_count": 36,
   "id": "0c0bc63f",
   "metadata": {},
   "outputs": [
    {
     "data": {
      "text/plain": [
       "['trained_model.pkl']"
      ]
     },
     "execution_count": 36,
     "metadata": {},
     "output_type": "execute_result"
    }
   ],
   "source": [
    "joblib.dump(knn, 'trained_model.pkl')"
   ]
  },
  {
   "cell_type": "markdown",
   "id": "4226fefa",
   "metadata": {},
   "source": [
    "Cargo el modelo para probarlo."
   ]
  },
  {
   "cell_type": "code",
   "execution_count": 40,
   "id": "ca271c6d",
   "metadata": {},
   "outputs": [],
   "source": [
    "knn=joblib.load('trained_model.pkl')"
   ]
  },
  {
   "cell_type": "code",
   "execution_count": 41,
   "id": "a5d7a3c9",
   "metadata": {},
   "outputs": [],
   "source": [
    "dataset_training_path=\"//wsl.localhost/Ubuntu-18.04/home/iremirezdeganuza/fproject/own_dataset\""
   ]
  },
  {
   "cell_type": "code",
   "execution_count": 42,
   "id": "b22920b4",
   "metadata": {},
   "outputs": [
    {
     "ename": "AttributeError",
     "evalue": "'str' object has no attribute 'data'",
     "output_type": "error",
     "traceback": [
      "\u001b[0;31m---------------------------------------------------------------------------\u001b[0m",
      "\u001b[0;31mAttributeError\u001b[0m                            Traceback (most recent call last)",
      "Input \u001b[0;32mIn [42]\u001b[0m, in \u001b[0;36m<cell line: 1>\u001b[0;34m()\u001b[0m\n\u001b[0;32m----> 1\u001b[0m knn\u001b[38;5;241m.\u001b[39mscore(\u001b[43mdataset_training_path\u001b[49m\u001b[38;5;241;43m.\u001b[39;49m\u001b[43mdata\u001b[49m, dataset_training_path\u001b[38;5;241m.\u001b[39mtarget)\n",
      "\u001b[0;31mAttributeError\u001b[0m: 'str' object has no attribute 'data'"
     ]
    }
   ],
   "source": [
    "knn.score(dataset_training_path.data, dataset_training_path.target)"
   ]
  },
  {
   "cell_type": "code",
   "execution_count": null,
   "id": "204b755f",
   "metadata": {},
   "outputs": [],
   "source": []
  },
  {
   "cell_type": "code",
   "execution_count": null,
   "id": "0d46aa12",
   "metadata": {},
   "outputs": [],
   "source": []
  },
  {
   "cell_type": "code",
   "execution_count": null,
   "id": "347f6482",
   "metadata": {},
   "outputs": [],
   "source": []
  },
  {
   "cell_type": "code",
   "execution_count": null,
   "id": "125b4f1f",
   "metadata": {},
   "outputs": [],
   "source": []
  },
  {
   "cell_type": "code",
   "execution_count": null,
   "id": "bce81e32",
   "metadata": {},
   "outputs": [],
   "source": []
  }
 ],
 "metadata": {
  "kernelspec": {
   "display_name": "Python 3 (ipykernel)",
   "language": "python",
   "name": "python3"
  },
  "language_info": {
   "codemirror_mode": {
    "name": "ipython",
    "version": 3
   },
   "file_extension": ".py",
   "mimetype": "text/x-python",
   "name": "python",
   "nbconvert_exporter": "python",
   "pygments_lexer": "ipython3",
   "version": "3.9.12"
  },
  "vscode": {
   "interpreter": {
    "hash": "32f2fe102a4f10662d8c13f75131e1ba377b7194060421a642fdea27c55fc65a"
   }
  }
 },
 "nbformat": 4,
 "nbformat_minor": 5
}
